{
 "cells": [
  {
   "cell_type": "markdown",
   "id": "dad57069-115e-4749-966a-552324478e35",
   "metadata": {},
   "source": [
    "# 1 Overview volume timeseries plots (just for analysis)"
   ]
  },
  {
   "cell_type": "markdown",
   "id": "4d8596ba-562b-42e6-867c-fbaf93f1b1e1",
   "metadata": {},
   "source": [
    "---"
   ]
  },
  {
   "cell_type": "code",
   "execution_count": 1,
   "id": "ef5013c4-016c-4396-9cd7-bf8c5cd56b55",
   "metadata": {},
   "outputs": [],
   "source": [
    "DATE='apr04'\n",
    "# download it here https://cluster.klima.uni-bremen.de/~lschuster/glacierMIP3_analysis/glacierMIP3_{DATE}_models_all_rgi_regions_sum_scaled.nc\n",
    "# and change the path to your local path\n",
    "path_merged_runs_scaled = f'/home/www/lschuster/glacierMIP3_analysis/glacierMIP3_{DATE}_models_all_rgi_regions_sum_scaled.nc'"
   ]
  },
  {
   "cell_type": "markdown",
   "id": "382645ed-38d9-4401-90a0-b3e671f9e5e0",
   "metadata": {},
   "source": [
    "---"
   ]
  },
  {
   "cell_type": "code",
   "execution_count": 2,
   "id": "8d4c5c53-e47c-4039-b1a9-7a05e3ff4ed1",
   "metadata": {},
   "outputs": [],
   "source": [
    "import xarray as xr\n",
    "import numpy as np\n",
    "import pandas as pd\n",
    "import os\n",
    "import glob\n",
    "import matplotlib.pyplot as plt\n",
    "from datetime import date\n",
    "import geopandas as gpd\n",
    "import matplotlib.pyplot as plt\n",
    "import seaborn as sns\n",
    "from help_func import pal_models, model_order, d_reg_num_name\n",
    "hue_order = model_order\n",
    "ds_reg_models = xr.open_dataset(path_merged_runs_scaled)"
   ]
  },
  {
   "cell_type": "code",
   "execution_count": 3,
   "id": "e3a4bd91-24cb-4aa3-a0a3-bf6c9537fbea",
   "metadata": {},
   "outputs": [],
   "source": [
    "# drop Huss and OGGM_v153\n",
    "models = ['James', 'Rounce', 'Compagno', 'Kraaijenbrink', 'GLIMB', 'OGGM_v16', 'OGGM-VAS', 'Zekollari']\n",
    "ds_reg_models = ds_reg_models.sel(model_author = models)"
   ]
  },
  {
   "cell_type": "code",
   "execution_count": 6,
   "id": "369bcfc5-e4bc-471e-ba46-d1f2e5aed20e",
   "metadata": {},
   "outputs": [],
   "source": [
    "# check if 0 removed from RGI region 17 , because there was some isssues in the GloGEM dataset \n",
    "ds_reg_models_sel = ds_reg_models.sel(rgi_reg='17')\n",
    "assert len(ds_reg_models_sel.sel(simulation_year=2000).volume_m3.where(ds_reg_models_sel.sel(simulation_year=2000).volume_m3==0).dropna(dim='model_author', how='all').model_author) == 0\n",
    "assert len(ds_reg_models_sel.sel(simulation_year=5000).volume_m3.where(ds_reg_models_sel.sel(simulation_year=5000).volume_m3==0).dropna(dim='model_author', how='all').model_author) == 0"
   ]
  },
  {
   "cell_type": "code",
   "execution_count": null,
   "id": "9c95c0ba-fa2a-492f-ab93-e9835e739484",
   "metadata": {},
   "outputs": [],
   "source": []
  },
  {
   "cell_type": "markdown",
   "id": "efd1183b-dc38-461c-9ffd-298206560411",
   "metadata": {},
   "source": [
    "## overview timeseries plots (just for analysis)\n",
    "\n",
    "- time series for every experiment an other figure, another subplot for every region\n",
    "- in every subplot: one RGI region, all the models and maybe all gcms?"
   ]
  },
  {
   "cell_type": "code",
   "execution_count": 7,
   "id": "47c9fa23-b7d5-4df0-bf37-afb64fe3652b",
   "metadata": {},
   "outputs": [],
   "source": [
    "plt.rc('font', size=20)     "
   ]
  },
  {
   "cell_type": "code",
   "execution_count": 8,
   "id": "504a4ced-e7be-4dc1-8a00-d7f17ce8b4e8",
   "metadata": {},
   "outputs": [],
   "source": [
    "rgi_regs = []\n",
    "for rgi_reg in np.arange(1,20,1):\n",
    "    if rgi_reg < 10:\n",
    "        rgi_reg = '0'+str(rgi_reg)\n",
    "    else:\n",
    "        rgi_reg = str(rgi_reg)\n",
    "    rgi_regs.append(rgi_reg)"
   ]
  },
  {
   "cell_type": "code",
   "execution_count": 9,
   "id": "1ebf3e90-396b-4ea5-b4d1-a2ffc9bfa558",
   "metadata": {},
   "outputs": [],
   "source": [
    "ds_reg_models_stack = ds_reg_models.stack(exps =('gcm','rgi_reg',\n",
    "                                                     'period_scenario', 'model_author'))\n",
    "# test if all the experiments are unique\n",
    "# for volume_m3\n",
    "unq, count = np.unique(ds_reg_models_stack.volume_m3.values, axis=1, return_counts=True)\n",
    "assert np.shape(ds_reg_models_stack.volume_m3.values) == np.shape(unq)\n",
    "assert np.all(count==1)\n",
    "# for area_m2\n",
    "unq, count = np.unique(ds_reg_models_stack.area_m2.values, axis=1, return_counts=True)\n",
    "assert np.shape(ds_reg_models_stack.area_m2.values) == np.shape(unq)\n",
    "assert np.all(count==1)"
   ]
  },
  {
   "cell_type": "code",
   "execution_count": 11,
   "id": "ebfbe66d-6e2e-41a3-bd5e-2e5df40c9809",
   "metadata": {},
   "outputs": [
    {
     "data": {
      "text/html": [
       "<svg  width=\"550\" height=\"55\"><rect x=\"0\" y=\"0\" width=\"55\" height=\"55\" style=\"fill:#56b4e9;stroke-width:2;stroke:rgb(255,255,255)\"/><rect x=\"55\" y=\"0\" width=\"55\" height=\"55\" style=\"fill:#0173b2;stroke-width:2;stroke:rgb(255,255,255)\"/><rect x=\"110\" y=\"0\" width=\"55\" height=\"55\" style=\"fill:#de8f05;stroke-width:2;stroke:rgb(255,255,255)\"/><rect x=\"165\" y=\"0\" width=\"55\" height=\"55\" style=\"fill:#029e73;stroke-width:2;stroke:rgb(255,255,255)\"/><rect x=\"220\" y=\"0\" width=\"55\" height=\"55\" style=\"fill:#d55e00;stroke-width:2;stroke:rgb(255,255,255)\"/><rect x=\"275\" y=\"0\" width=\"55\" height=\"55\" style=\"fill:#cc78bc;stroke-width:2;stroke:rgb(255,255,255)\"/><rect x=\"330\" y=\"0\" width=\"55\" height=\"55\" style=\"fill:#591e71;stroke-width:2;stroke:rgb(255,255,255)\"/><rect x=\"385\" y=\"0\" width=\"55\" height=\"55\" style=\"fill:#fbafe4;stroke-width:2;stroke:rgb(255,255,255)\"/><rect x=\"440\" y=\"0\" width=\"55\" height=\"55\" style=\"fill:#949494;stroke-width:2;stroke:rgb(255,255,255)\"/><rect x=\"495\" y=\"0\" width=\"55\" height=\"55\" style=\"fill:#ece133;stroke-width:2;stroke:rgb(255,255,255)\"/></svg>"
      ],
      "text/plain": [
       "[(0.33725490196078434, 0.7058823529411765, 0.9137254901960784),\n",
       " (0.00392156862745098, 0.45098039215686275, 0.6980392156862745),\n",
       " (0.8705882352941177, 0.5607843137254902, 0.0196078431372549),\n",
       " (0.00784313725490196, 0.6196078431372549, 0.45098039215686275),\n",
       " (0.8352941176470589, 0.3686274509803922, 0.0),\n",
       " (0.8, 0.47058823529411764, 0.7372549019607844),\n",
       " (0.34901960784313724, 0.11764705882352941, 0.44313725490196076),\n",
       " (0.984313725490196, 0.6862745098039216, 0.8941176470588236),\n",
       " (0.5803921568627451, 0.5803921568627451, 0.5803921568627451),\n",
       " (0.9254901960784314, 0.8823529411764706, 0.2)]"
      ]
     },
     "execution_count": 11,
     "metadata": {},
     "output_type": "execute_result"
    }
   ],
   "source": [
    "pal_models"
   ]
  },
  {
   "cell_type": "code",
   "execution_count": 15,
   "id": "c8993611-e570-43d4-b9a4-dc7be839ed89",
   "metadata": {},
   "outputs": [],
   "source": [
    "dict_model_col = {}\n",
    "for h, p in zip(hue_order,pal_models):\n",
    "    if h in ds_reg_models.model_author:\n",
    "        dict_model_col[h] = p"
   ]
  },
  {
   "cell_type": "code",
   "execution_count": 18,
   "id": "8a6bd5d9-8d2e-4e6e-86e6-a0127a405205",
   "metadata": {},
   "outputs": [
    {
     "data": {
      "text/plain": [
       "dict_values([(0.33725490196078434, 0.7058823529411765, 0.9137254901960784), (0.8705882352941177, 0.5607843137254902, 0.0196078431372549), (0.00784313725490196, 0.6196078431372549, 0.45098039215686275), (0.8352941176470589, 0.3686274509803922, 0.0), (0.8, 0.47058823529411764, 0.7372549019607844), (0.984313725490196, 0.6862745098039216, 0.8941176470588236), (0.5803921568627451, 0.5803921568627451, 0.5803921568627451), (0.9254901960784314, 0.8823529411764706, 0.2)])"
      ]
     },
     "execution_count": 18,
     "metadata": {},
     "output_type": "execute_result"
    }
   ],
   "source": [
    "dict_model_col.values()"
   ]
  },
  {
   "cell_type": "code",
   "execution_count": 19,
   "id": "48b34a5d-b2cc-4aa0-b103-8e1efe4bde16",
   "metadata": {},
   "outputs": [],
   "source": [
    "ls_l = ['solid', 'dotted', 'dashed', 'dashdot', (0, (3, 1, 1, 1))]\n",
    "\n",
    "for rgi_reg in rgi_regs:\n",
    "    axs = []\n",
    "    plt.figure(figsize=(30,40))\n",
    "    for j,period_scenario in enumerate(ds_reg_models.period_scenario):\n",
    "        if j==0 or j==4:\n",
    "            ax0=plt.subplot(4,4,j+1)\n",
    "            ax = ax0\n",
    "        else:\n",
    "            ax=plt.subplot(4,4,j+1,sharey=ax0)\n",
    "        axs.append(ax)\n",
    "        for ls,gcm in zip(ls_l,ds_reg_models.gcm):\n",
    "            pd_reg_vol_sel = ds_reg_models.sel(period_scenario=period_scenario).sel(gcm=gcm).volume_m3.to_dataframe().reset_index()\n",
    "            pd_reg_vol_sel['volume (km³)'] = pd_reg_vol_sel['volume_m3']/1e9\n",
    "            if ls == 'solid' and j==3:\n",
    "                sns.lineplot(x='simulation_year', data=pd_reg_vol_sel.loc[pd_reg_vol_sel.rgi_reg==rgi_reg], y='volume (km³)',\n",
    "                         hue='model_author', hue_order=dict_model_col.keys(), palette=dict_model_col.values(), ls=ls, legend='brief', lw=3, ax=ax)\n",
    "            else:\n",
    "                sns.lineplot(x='simulation_year', data=pd_reg_vol_sel.loc[pd_reg_vol_sel.rgi_reg==rgi_reg], y='volume (km³)',\n",
    "                         hue='model_author', hue_order=dict_model_col.keys(), palette=dict_model_col.values(), ls=ls, legend=False, lw=3, ax=ax)\n",
    "            if j in [0,4,8,12]:\n",
    "                ax.set_ylabel('volume (km³)', fontsize=22)\n",
    "            else:\n",
    "                ax.set_ylabel('')\n",
    "            ax.set_xlabel('simulation year', fontsize=22)\n",
    "            if ls == 'solid' and j==3: \n",
    "                leg = ax.get_legend()\n",
    "                for legobj in leg.legendHandles:\n",
    "                    legobj.set_linewidth(3.0)\n",
    "            #leg.set_bbox_to_anchor([1,1])\n",
    "        if j==3:\n",
    "            minip, maxip = ax.get_ylim()\n",
    "        elif j==15:\n",
    "            minif, maxif = ax.get_ylim()\n",
    "        \n",
    "        ax.set_title(str(period_scenario.values))\n",
    "        ax.set_xlim([-100,5100])\n",
    "        \n",
    "    for j,period_scenario in enumerate(ds_reg_models.period_scenario):\n",
    "        ax = axs[j]\n",
    "        ax2 = ax.twinx()\n",
    "        for ls,gcm in zip(ls_l,ds_reg_models.gcm):\n",
    "            _ref = 100*ds_reg_models.sel(period_scenario=period_scenario).sel(gcm=gcm).volume_m3/ds_reg_models.sel(period_scenario=period_scenario).sel(gcm=gcm).volume_m3.sel(simulation_year=0)\n",
    "            pd_reg_vol_sel = _ref.to_dataframe().reset_index()\n",
    "            pd_reg_vol_sel['volume (relative to initial state, in %)'] = pd_reg_vol_sel['volume_m3']\n",
    "            if ls == 'solid' and j==3:\n",
    "                sns.lineplot(x='simulation_year', data=pd_reg_vol_sel.loc[pd_reg_vol_sel.rgi_reg==rgi_reg], \n",
    "                             y='volume (relative to initial state, in %)',\n",
    "                             hue='model_author', hue_order=dict_model_col.keys(), palette=dict_model_col.values(), ls=ls, legend='brief', lw=3, ax=ax2)\n",
    "            else:\n",
    "                sns.lineplot(x='simulation_year', data=pd_reg_vol_sel.loc[pd_reg_vol_sel.rgi_reg==rgi_reg], \n",
    "                             y='volume (relative to initial state, in %)',\n",
    "                             hue='model_author', hue_order=dict_model_col.keys(), palette=dict_model_col.values(), ls=ls, legend=False, lw=3, ax=ax2)\n",
    "            if j in [3,7,11,15]:\n",
    "                ax2.set_ylabel('volume (relative to initial state, in %)', fontsize=22)\n",
    "            else:\n",
    "                ax2.set_ylabel('')\n",
    "                \n",
    "        rel = 100*1e9/ds_reg_models.sel(period_scenario=period_scenario).sel(gcm=gcm).sel(rgi_reg=rgi_reg).sel(simulation_year=0).volume_m3\n",
    "        rel = rel.dropna(dim='model_author')\n",
    "        np.testing.assert_allclose(rel[0], rel)\n",
    "        rel = rel[0].values\n",
    "        \n",
    "        if j<4:\n",
    "            ax2.set_ylim([minip*rel,maxip*rel])\n",
    "        else:\n",
    "            ax2.set_ylim([minif*rel,maxif*rel])\n",
    "\n",
    "        \n",
    "    reg = d_reg_num_name[rgi_reg]\n",
    "    plt.suptitle(f'RGI region: {rgi_reg} ({reg})')\n",
    "    plt.tight_layout()\n",
    "\n",
    "    plt.savefig(f'figures/1_overview_timeseries_plots/vol_time_series_rgi_reg{rgi_reg}.png')\n",
    "    plt.close()"
   ]
  },
  {
   "cell_type": "markdown",
   "id": "21283b9d-7f11-45e1-b440-8b480fe7b718",
   "metadata": {},
   "source": [
    "- plots separately for every GCM:"
   ]
  },
  {
   "cell_type": "code",
   "execution_count": 20,
   "id": "eea3e5f0-45ca-4af3-8533-eedb92b08f8b",
   "metadata": {},
   "outputs": [],
   "source": [
    "ls = 'solid'\n",
    "for gcm in ds_reg_models.gcm.values:\n",
    "\n",
    "    for rgi_reg in rgi_regs:\n",
    "        plt.figure(figsize=(30,40))\n",
    "        axs = []\n",
    "        for j,period_scenario in enumerate(ds_reg_models.period_scenario):\n",
    "            if j==0 or j==4:\n",
    "                ax0=plt.subplot(4,4,j+1)\n",
    "                ax = ax0\n",
    "            else:\n",
    "                ax=plt.subplot(4,4,j+1,sharey=ax0)\n",
    "            axs.append(ax)\n",
    "            pd_reg_vol_sel = ds_reg_models.sel(period_scenario=period_scenario).sel(gcm=gcm).volume_m3.to_dataframe().reset_index()\n",
    "            pd_reg_vol_sel['volume (km³)'] = pd_reg_vol_sel['volume_m3']/1e9\n",
    "            if j==3:\n",
    "                sns.lineplot(x='simulation_year', data=pd_reg_vol_sel.loc[pd_reg_vol_sel.rgi_reg==rgi_reg], y='volume (km³)',\n",
    "                         hue='model_author', hue_order=dict_model_col.keys(), palette=dict_model_col.values(), ls=ls, legend='brief', lw=3, ax=ax)\n",
    "            else:\n",
    "                sns.lineplot(x='simulation_year', data=pd_reg_vol_sel.loc[pd_reg_vol_sel.rgi_reg==rgi_reg], y='volume (km³)',\n",
    "                         hue='model_author', hue_order=dict_model_col.keys(), palette=dict_model_col.values(), ls=ls, legend=False, lw=3, ax=ax)\n",
    "            if j in [0,4,8,12]:\n",
    "                plt.ylabel('volume (km³)', fontsize=22)\n",
    "            else:\n",
    "                plt.ylabel('')\n",
    "            plt.xlabel('simulation year', fontsize=22)\n",
    "            if j==3: \n",
    "                leg = plt.gca().get_legend()\n",
    "                for legobj in leg.legendHandles:\n",
    "                    legobj.set_linewidth(3.0)\n",
    "            #leg.set_bbox_to_anchor([1,1])\n",
    "            ax.set_title(str(period_scenario.values))\n",
    "            ax.set_xlim([-100,5100])\n",
    "            if j==3:\n",
    "                minip, maxip = ax.get_ylim()\n",
    "            elif j==15:\n",
    "                minif, maxif = ax.get_ylim()\n",
    "\n",
    "\n",
    "        \n",
    "        for j,period_scenario in enumerate(ds_reg_models.period_scenario):\n",
    "            ax = axs[j]\n",
    "            ax2 = ax.twinx()\n",
    "            _ref = 100*ds_reg_models.sel(period_scenario=period_scenario).sel(gcm=gcm).volume_m3/ds_reg_models.sel(period_scenario=period_scenario).sel(gcm=gcm).volume_m3.sel(simulation_year=0)\n",
    "            pd_reg_vol_sel = _ref.to_dataframe().reset_index()\n",
    "            pd_reg_vol_sel['volume (relative to initial state, in %)'] = pd_reg_vol_sel['volume_m3']\n",
    "            if ls == 'solid' and j==3:\n",
    "                sns.lineplot(x='simulation_year', data=pd_reg_vol_sel.loc[pd_reg_vol_sel.rgi_reg==rgi_reg], \n",
    "                             y='volume (relative to initial state, in %)',\n",
    "                             hue='model_author', hue_order=dict_model_col.keys(), palette=dict_model_col.values(), ls=ls, legend='brief', lw=3, ax=ax2)\n",
    "            else:\n",
    "                sns.lineplot(x='simulation_year', data=pd_reg_vol_sel.loc[pd_reg_vol_sel.rgi_reg==rgi_reg], \n",
    "                             y='volume (relative to initial state, in %)',\n",
    "                             hue='model_author', hue_order=dict_model_col.keys(), palette=dict_model_col.values(), ls=ls, legend=False, lw=3, ax=ax2)\n",
    "            if j in [3,7,11,15]:\n",
    "                ax2.set_ylabel('volume (relative to initial state, in %)', fontsize=22)\n",
    "            else:\n",
    "                ax2.set_ylabel('')\n",
    "    \n",
    "                \n",
    "            rel = 100*1e9/ds_reg_models.sel(period_scenario=period_scenario).sel(gcm=gcm).sel(rgi_reg=rgi_reg).sel(simulation_year=0).volume_m3\n",
    "            rel = rel.dropna(dim='model_author')\n",
    "            np.testing.assert_allclose(rel[0], rel)\n",
    "            rel = rel[0].values\n",
    "\n",
    "            if j<4:\n",
    "                ax2.set_ylim([minip*rel,maxip*rel])\n",
    "            else:\n",
    "                ax2.set_ylim([minif*rel,maxif*rel])\n",
    "\n",
    "        reg = d_reg_num_name[rgi_reg]\n",
    "        plt.suptitle(f'RGI region: {rgi_reg} ({reg}) - {gcm}')\n",
    "        plt.tight_layout()\n",
    "\n",
    "        plt.savefig(f'figures/1_overview_timeseries_plots/gcm_separate_vol_time_series/vol_time_series_rgi_reg{rgi_reg}_{gcm}.png')\n",
    "        plt.close()"
   ]
  },
  {
   "cell_type": "code",
   "execution_count": null,
   "id": "8321f652-8b3a-4154-8688-a23d75f28ceb",
   "metadata": {},
   "outputs": [],
   "source": []
  },
  {
   "cell_type": "markdown",
   "id": "875d2b71-d4f3-45e8-ae72-e0352bd8da24",
   "metadata": {},
   "source": [
    "- old: same plot again without UKESM"
   ]
  },
  {
   "cell_type": "code",
   "execution_count": null,
   "id": "66637a7c-c333-44ee-a154-96c46e31db4d",
   "metadata": {},
   "outputs": [],
   "source": [
    "old = False\n",
    "if old:\n",
    "    ls_l = ['solid', 'dotted', 'dashed', 'dashdot', (0, (3, 1, 1, 1))]\n",
    "\n",
    "    for rgi_reg in rgi_regs:\n",
    "        axs = []\n",
    "        plt.figure(figsize=(30,40))\n",
    "        for j,period_scenario in enumerate(ds_reg_models.period_scenario):\n",
    "            if j==0 or j==4:\n",
    "                ax0=plt.subplot(4,4,j+1)\n",
    "                ax = ax0\n",
    "            else:\n",
    "                ax=plt.subplot(4,4,j+1,sharey=ax0)\n",
    "            axs.append(ax)\n",
    "            for ls,gcm in zip(ls_l,['gfdl-esm4', 'ipsl-cm6a-lr', 'mpi-esm1-2-hr', 'mri-esm2-0']):\n",
    "                pd_reg_vol_sel = ds_reg_models.sel(period_scenario=period_scenario).sel(gcm=gcm).volume_m3.to_dataframe().reset_index()\n",
    "                pd_reg_vol_sel['volume (km³)'] = pd_reg_vol_sel['volume_m3']/1e9\n",
    "                if ls == 'solid' and j==3:\n",
    "                    sns.lineplot(x='simulation_year', data=pd_reg_vol_sel.loc[pd_reg_vol_sel.rgi_reg==rgi_reg], y='volume (km³)',\n",
    "                             hue='model_author', hue_order=hue_order, palette=pal_models, ls=ls, legend='brief', lw=3, ax=ax)\n",
    "                else:\n",
    "                    sns.lineplot(x='simulation_year', data=pd_reg_vol_sel.loc[pd_reg_vol_sel.rgi_reg==rgi_reg], y='volume (km³)',\n",
    "                             hue='model_author', hue_order=hue_order, palette=pal_models, ls=ls, legend=False, lw=3, ax=ax)\n",
    "                if j in [0,4,8,12]:\n",
    "                    ax.set_ylabel('volume (km³)', fontsize=22)\n",
    "                else:\n",
    "                    ax.set_ylabel('')\n",
    "                ax.set_xlabel('simulation year', fontsize=22)\n",
    "                if ls == 'solid' and j==3: \n",
    "                    leg = ax.get_legend()\n",
    "                    for legobj in leg.legendHandles:\n",
    "                        legobj.set_linewidth(3.0)\n",
    "                #leg.set_bbox_to_anchor([1,1])\n",
    "            if j==3:\n",
    "                minip, maxip = ax.get_ylim()\n",
    "            elif j==15:\n",
    "                minif, maxif = ax.get_ylim()\n",
    "\n",
    "            ax.set_title(str(period_scenario.values))\n",
    "            ax.set_xlim([-100,5100])\n",
    "\n",
    "        for j,period_scenario in enumerate(ds_reg_models.period_scenario):\n",
    "            ax = axs[j]\n",
    "            ax2 = ax.twinx()\n",
    "            for ls,gcm in zip(ls_l, ['gfdl-esm4', 'ipsl-cm6a-lr', 'mpi-esm1-2-hr', 'mri-esm2-0']):\n",
    "                _ref = 100*ds_reg_models.sel(period_scenario=period_scenario).sel(gcm=gcm).volume_m3/ds_reg_models.sel(period_scenario=period_scenario).sel(gcm=gcm).volume_m3.sel(simulation_year=0)\n",
    "                pd_reg_vol_sel = _ref.to_dataframe().reset_index()\n",
    "                pd_reg_vol_sel['volume (relative to initial state, in %)'] = pd_reg_vol_sel['volume_m3']\n",
    "                if ls == 'solid' and j==3:\n",
    "                    sns.lineplot(x='simulation_year', data=pd_reg_vol_sel.loc[pd_reg_vol_sel.rgi_reg==rgi_reg], \n",
    "                                 y='volume (relative to initial state, in %)',\n",
    "                                 hue='model_author', hue_order=hue_order, palette=pal_models, ls=ls, legend='brief', lw=3, ax=ax2)\n",
    "                else:\n",
    "                    sns.lineplot(x='simulation_year', data=pd_reg_vol_sel.loc[pd_reg_vol_sel.rgi_reg==rgi_reg], \n",
    "                                 y='volume (relative to initial state, in %)',\n",
    "                                 hue='model_author', hue_order=hue_order, palette=pal_models, ls=ls, legend=False, lw=3, ax=ax2)\n",
    "                if j in [3,7,11,15]:\n",
    "                    ax2.set_ylabel('volume (relative to initial state, in %)', fontsize=22)\n",
    "                else:\n",
    "                    ax2.set_ylabel('')\n",
    "\n",
    "            rel = 100*1e9/ds_reg_models.sel(period_scenario=period_scenario).sel(gcm=gcm).sel(rgi_reg=rgi_reg).sel(simulation_year=0).volume_m3\n",
    "            rel = rel.dropna(dim='model_author')\n",
    "            np.testing.assert_allclose(rel[0], rel)\n",
    "            rel = rel[0].values\n",
    "\n",
    "            if j<4:\n",
    "                ax2.set_ylim([minip*rel,maxip*rel])\n",
    "            else:\n",
    "                ax2.set_ylim([minif*rel,maxif*rel])\n",
    "\n",
    "\n",
    "        reg = d_reg_num_name[rgi_reg]\n",
    "        plt.suptitle(f'RGI region: {rgi_reg} ({reg})')\n",
    "        plt.tight_layout()\n",
    "\n",
    "        plt.savefig(f'/home/www/lschuster/glacierMIP3_analysis/analysis_2023_03/no_ukesm/vol_time_series_rgi_reg{rgi_reg}.pdf')\n",
    "        plt.close()"
   ]
  },
  {
   "cell_type": "code",
   "execution_count": null,
   "id": "716810c1-8b61-46da-ab67-b526e231a4f3",
   "metadata": {},
   "outputs": [],
   "source": []
  }
 ],
 "metadata": {
  "kernelspec": {
   "display_name": "Python 3 (ipykernel)",
   "language": "python",
   "name": "python3"
  },
  "language_info": {
   "codemirror_mode": {
    "name": "ipython",
    "version": 3
   },
   "file_extension": ".py",
   "mimetype": "text/x-python",
   "name": "python",
   "nbconvert_exporter": "python",
   "pygments_lexer": "ipython3",
   "version": "3.10.8"
  }
 },
 "nbformat": 4,
 "nbformat_minor": 5
}
